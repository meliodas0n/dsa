{
 "cells": [
  {
   "cell_type": "code",
   "execution_count": 1,
   "id": "0e8b0de8-aeca-4a54-9519-ca3a3c29442c",
   "metadata": {},
   "outputs": [],
   "source": [
    "def all_pairs(L):\n",
    "    n = len(L)\n",
    "    for i in range(n):\n",
    "        for j in range(i + 1, n):\n",
    "            yield (L[i], L[j])"
   ]
  },
  {
   "cell_type": "code",
   "execution_count": 4,
   "id": "d337d223-3ecd-478e-b03d-0cebd3da5256",
   "metadata": {},
   "outputs": [
    {
     "name": "stdout",
     "output_type": "stream",
     "text": [
      "[(1, 2), (1, 3), (1, 4), (1, 5), (1, 6), (1, 7), (1, 8), (1, 9), (2, 3), (2, 4), (2, 5), (2, 6), (2, 7), (2, 8), (2, 9), (3, 4), (3, 5), (3, 6), (3, 7), (3, 8), (3, 9), (4, 5), (4, 6), (4, 7), (4, 8), (4, 9), (5, 6), (5, 7), (5, 8), (5, 9), (6, 7), (6, 8), (6, 9), (7, 8), (7, 9), (8, 9)]\n"
     ]
    }
   ],
   "source": [
    "print([i for i in all_pairs(range(1, 10))])"
   ]
  },
  {
   "cell_type": "code",
   "execution_count": 5,
   "id": "3832882b-52c2-4ce3-9ff6-cc5f975c47b0",
   "metadata": {},
   "outputs": [],
   "source": [
    "from math import sqrt"
   ]
  },
  {
   "cell_type": "code",
   "execution_count": null,
   "id": "f3ab7b6f-d4fd-4a84-b332-d196dd90cef9",
   "metadata": {},
   "outputs": [
    {
     "data": {
      "text/plain": [
       "2.0"
      ]
     },
     "execution_count": 6,
     "metadata": {},
     "output_type": "execute_result"
    }
   ],
   "source": [
    "sqrt(4)"
   ]
  },
  {
   "cell_type": "code",
   "execution_count": null,
   "id": "bc8651b4",
   "metadata": {},
   "outputs": [
    {
     "ename": "",
     "evalue": "",
     "output_type": "error",
     "traceback": [
      "\u001b[1;31mRunning cells with '.venv (Python 3.13.1)' requires the ipykernel package.\n",
      "\u001b[1;31mInstall 'ipykernel' into the Python environment. \n",
      "\u001b[1;31mCommand: '/home/meliodas/dsa/python/cp/.venv/bin/python -m pip install ipykernel -U --force-reinstall'"
     ]
    }
   ],
   "source": [
    "!pip install tryalgo"
   ]
  },
  {
   "cell_type": "code",
   "execution_count": 2,
   "id": "51b1fead-23c1-4331-bc49-5213450e7e54",
   "metadata": {},
   "outputs": [
    {
     "name": "stdout",
     "output_type": "stream",
     "text": [
      "Help on package tryalgo:\n",
      "\n",
      "NAME\n",
      "    tryalgo\n",
      "\n",
      "PACKAGE CONTENTS\n",
      "    PC_tree\n",
      "    Sequence\n",
      "    a_star\n",
      "    anagrams\n",
      "    arithm\n",
      "    arithm_expr_eval\n",
      "    arithm_expr_target\n",
      "    bellman_ford\n",
      "    bfs\n",
      "    biconnected_components\n",
      "    binary_search\n",
      "    bipartite_matching\n",
      "    bipartite_vertex_cover\n",
      "    closest_points\n",
      "    closest_values\n",
      "    convex_hull\n",
      "    dancing_links\n",
      "    dfs\n",
      "    dijkstra\n",
      "    dilworth\n",
      "    dinic\n",
      "    dist_grid\n",
      "    dyn_prog_tricks\n",
      "    edmonds_karp\n",
      "    eulerian_tour\n",
      "    fast_exponentiation\n",
      "    fenwick\n",
      "    fft\n",
      "    floyd_warshall\n",
      "    ford_fulkerson\n",
      "    freivalds\n",
      "    gale_shapley\n",
      "    gauss_jordan\n",
      "    graph\n",
      "    graph01\n",
      "    hamiltonian_cycle\n",
      "    horn_sat\n",
      "    huffman\n",
      "    interval_cover\n",
      "    interval_tree\n",
      "    intervals_union\n",
      "    karatsuba\n",
      "    knapsack\n",
      "    knuth_morris_pratt\n",
      "    kruskal\n",
      "    kuhn_munkres\n",
      "    kuhn_munkres_n4\n",
      "    laser_mirrors\n",
      "    left_right_inversions\n",
      "    levenshtein\n",
      "    longest_common_subsequence\n",
      "    longest_increasing_subsequence\n",
      "    lowest_common_ancestor\n",
      "    majority\n",
      "    manacher\n",
      "    matrix_chain_mult\n",
      "    max_interval_intersec\n",
      "    merge_ordered_lists\n",
      "    min_mean_cycle\n",
      "    next_permutation\n",
      "    our_heap\n",
      "    our_queue\n",
      "    our_std\n",
      "    pareto\n",
      "    partition_refinement\n",
      "    permutation_rank\n",
      "    polygon\n",
      "    predictive_text\n",
      "    primes\n",
      "    rabin_karp\n",
      "    range_minimum_query\n",
      "    rectangles_from_grid\n",
      "    rectangles_from_histogram\n",
      "    rectangles_from_points\n",
      "    roman_numbers\n",
      "    scalar\n",
      "    shortest_cycle\n",
      "    skip_list\n",
      "    strongly_connected_components\n",
      "    subsetsum\n",
      "    subsetsum_divide\n",
      "    sudoku\n",
      "    suffix_array\n",
      "    three_partition\n",
      "    topological_order\n",
      "    tortoise_hare\n",
      "    trie\n",
      "    two_sat\n",
      "    union_rectangles\n",
      "    windows_k_distinct\n",
      "\n",
      "FILE\n",
      "    /home/meliodas/.local/lib/python3.13/site-packages/tryalgo/__init__.py\n",
      "\n",
      "\n"
     ]
    }
   ],
   "source": [
    "import tryalgo\n",
    "help(tryalgo)"
   ]
  },
  {
   "cell_type": "code",
   "execution_count": 4,
   "id": "493eb689",
   "metadata": {},
   "outputs": [],
   "source": [
    "from tryalgo import bfs"
   ]
  },
  {
   "cell_type": "code",
   "execution_count": 5,
   "id": "7468afe6-b3e9-4c4a-8c3c-69c2d5b3ba77",
   "metadata": {},
   "outputs": [
    {
     "name": "stdout",
     "output_type": "stream",
     "text": [
      "Help on module tryalgo.bfs in tryalgo:\n",
      "\n",
      "NAME\n",
      "    tryalgo.bfs - Breadth-first search (bfs)\n",
      "\n",
      "DESCRIPTION\n",
      "    christoph dürr - jill-jênn vie - 2015-2019, 2023\n",
      "\n",
      "FUNCTIONS\n",
      "    bfs(graph, start=0)\n",
      "        Shortest path in unweighted graph by BFS\n",
      "\n",
      "        :param graph: directed graph in listlist or listdict format\n",
      "        :param int start: source vertex\n",
      "        :returns: distance table, precedence table\n",
      "        :complexity: `O(|V|+|E|)`\n",
      "\n",
      "    bfs_implicit(graph, start, end)\n",
      "        Shortest path by BFS in an implicitly directed graph\n",
      "\n",
      "        :param graph: function mapping a given vertex to\n",
      "         an iterator over the neighboring vertices\n",
      "        :param start: source vertex\n",
      "        :param end: target vertex\n",
      "        :returns: list of vertices of a shortest path or None\n",
      "        :complexity: `O(|V|+|E|)`\n",
      "\n",
      "FILE\n",
      "    /home/meliodas/.local/lib/python3.13/site-packages/tryalgo/bfs.py\n",
      "\n",
      "\n"
     ]
    }
   ],
   "source": [
    "help(bfs)"
   ]
  },
  {
   "cell_type": "code",
   "execution_count": 6,
   "id": "718c05e4-0bcc-4b88-8c9f-e628b3b4f094",
   "metadata": {},
   "outputs": [],
   "source": [
    "from collections import defaultdict"
   ]
  },
  {
   "cell_type": "code",
   "execution_count": 17,
   "id": "330a6609-cbc4-4be3-a77f-e456ae8955c3",
   "metadata": {},
   "outputs": [],
   "source": [
    "g = defaultdict(str)"
   ]
  },
  {
   "cell_type": "code",
   "execution_count": 18,
   "id": "890a9dbb-3143-4015-b151-d711609cc580",
   "metadata": {},
   "outputs": [],
   "source": [
    "g['hello'] += \"mrunal\""
   ]
  },
  {
   "cell_type": "code",
   "execution_count": 19,
   "id": "85d483e0-388e-4097-9766-46e8ad59768d",
   "metadata": {},
   "outputs": [],
   "source": [
    "g['hello'] += \"narayana\""
   ]
  },
  {
   "cell_type": "code",
   "execution_count": 20,
   "id": "db1396f6-5e65-4b99-8cdc-c129b6f9fa1f",
   "metadata": {},
   "outputs": [
    {
     "data": {
      "text/plain": [
       "'mrunalnarayana'"
      ]
     },
     "execution_count": 20,
     "metadata": {},
     "output_type": "execute_result"
    }
   ],
   "source": [
    "g['hello']"
   ]
  },
  {
   "cell_type": "code",
   "execution_count": 22,
   "id": "dadb6615-3a73-426d-a28b-f9c69e1b1254",
   "metadata": {},
   "outputs": [
    {
     "data": {
      "text/plain": [
       "[[0, 0, 0, 0, 0, 0, 0, 0, 0, 0],\n",
       " [0, 0, 0, 0, 0, 0, 0, 0, 0, 0],\n",
       " [0, 0, 0, 0, 0, 0, 0, 0, 0, 0],\n",
       " [0, 0, 0, 0, 0, 0, 0, 0, 0, 0],\n",
       " [0, 0, 0, 0, 0, 0, 0, 0, 0, 0],\n",
       " [0, 0, 0, 0, 0, 0, 0, 0, 0, 0],\n",
       " [0, 0, 0, 0, 0, 0, 0, 0, 0, 0],\n",
       " [0, 0, 0, 0, 0, 0, 0, 0, 0, 0],\n",
       " [0, 0, 0, 0, 0, 0, 0, 0, 0, 0],\n",
       " [0, 0, 0, 0, 0, 0, 0, 0, 0, 0]]"
      ]
     },
     "execution_count": 22,
     "metadata": {},
     "output_type": "execute_result"
    }
   ],
   "source": [
    "M = [[0] * 10] * 10\n",
    "M"
   ]
  },
  {
   "cell_type": "code",
   "execution_count": 23,
   "id": "97391dfe-aaac-4825-b561-bacede954ec6",
   "metadata": {},
   "outputs": [
    {
     "ename": "ValueError",
     "evalue": "not enough values to unpack (expected 2, got 0)",
     "output_type": "error",
     "traceback": [
      "\u001b[31m---------------------------------------------------------------------------\u001b[39m",
      "\u001b[31mValueError\u001b[39m                                Traceback (most recent call last)",
      "\u001b[36mCell\u001b[39m\u001b[36m \u001b[39m\u001b[32mIn[23]\u001b[39m\u001b[32m, line 2\u001b[39m\n\u001b[32m      1\u001b[39m \u001b[38;5;28;01mimport\u001b[39;00m \u001b[34;01msys\u001b[39;00m\n\u001b[32m----> \u001b[39m\u001b[32m2\u001b[39m hegith, width = \u001b[38;5;28mmap\u001b[39m(\u001b[38;5;28mint\u001b[39m, sys.stdin.readline().split())\n",
      "\u001b[31mValueError\u001b[39m: not enough values to unpack (expected 2, got 0)"
     ]
    }
   ],
   "source": [
    "import sys\n",
    "hegith, width = map(int, sys.stdin.readline().split())"
   ]
  },
  {
   "cell_type": "code",
   "execution_count": 26,
   "id": "1947369b-9c6b-478d-85c8-4a5fb7dca1eb",
   "metadata": {},
   "outputs": [
    {
     "ename": "TypeError",
     "evalue": "'list' object cannot be interpreted as an integer",
     "output_type": "error",
     "traceback": [
      "\u001b[31m---------------------------------------------------------------------------\u001b[39m",
      "\u001b[31mTypeError\u001b[39m                                 Traceback (most recent call last)",
      "\u001b[36mCell\u001b[39m\u001b[36m \u001b[39m\u001b[32mIn[26]\u001b[39m\u001b[32m, line 3\u001b[39m\n\u001b[32m      1\u001b[39m \u001b[38;5;28;01mimport\u001b[39;00m \u001b[34;01mos\u001b[39;00m\n\u001b[32m----> \u001b[39m\u001b[32m3\u001b[39m instance = \u001b[38;5;28mlist\u001b[39m(\u001b[38;5;28mmap\u001b[39m(\u001b[38;5;28mint\u001b[39m, \u001b[43mos\u001b[49m\u001b[43m.\u001b[49m\u001b[43mread\u001b[49m\u001b[43m(\u001b[49m\u001b[32;43m0\u001b[39;49m\u001b[43m,\u001b[49m\u001b[43m \u001b[49m\u001b[43mM\u001b[49m\u001b[43m)\u001b[49m.split()))\n",
      "\u001b[31mTypeError\u001b[39m: 'list' object cannot be interpreted as an integer"
     ]
    }
   ],
   "source": [
    "import os\n",
    "\n",
    "instance = list(map(int, os.read(0, M).split()))"
   ]
  },
  {
   "cell_type": "code",
   "execution_count": 27,
   "id": "65cea6fb-8917-49e7-a456-70bdc79a948d",
   "metadata": {},
   "outputs": [
    {
     "name": "stdout",
     "output_type": "stream",
     "text": [
      " 10\n",
      " 10\n"
     ]
    },
    {
     "ename": "ValueError",
     "evalue": "not enough values to unpack (expected 3, got 1)",
     "output_type": "error",
     "traceback": [
      "\u001b[31m---------------------------------------------------------------------------\u001b[39m",
      "\u001b[31mValueError\u001b[39m                                Traceback (most recent call last)",
      "\u001b[36mCell\u001b[39m\u001b[36m \u001b[39m\u001b[32mIn[27]\u001b[39m\u001b[32m, line 7\u001b[39m\n\u001b[32m      5\u001b[39m g = defaultdict(\u001b[38;5;28mdict\u001b[39m)\n\u001b[32m      6\u001b[39m \u001b[38;5;28;01mfor\u001b[39;00m _ \u001b[38;5;129;01min\u001b[39;00m \u001b[38;5;28mrange\u001b[39m(nb_edges):\n\u001b[32m----> \u001b[39m\u001b[32m7\u001b[39m     u, v, weight = \u001b[38;5;28minput\u001b[39m().split()\n\u001b[32m      8\u001b[39m     g[u][v] = \u001b[38;5;28mint\u001b[39m(weight)\n",
      "\u001b[31mValueError\u001b[39m: not enough values to unpack (expected 3, got 1)"
     ]
    }
   ],
   "source": [
    "from collections import defaultdict\n",
    "\n",
    "nb_edges = int(input())\n",
    "\n",
    "g = defaultdict(dict)\n",
    "for _ in range(nb_edges):\n",
    "    u, v, weight = input().split()\n",
    "    g[u][v] = int(weight)"
   ]
  },
  {
   "cell_type": "code",
   "execution_count": null,
   "id": "f42a78d2-fe77-443f-b667-8704533de244",
   "metadata": {},
   "outputs": [],
   "source": []
  }
 ],
 "metadata": {
  "kernelspec": {
   "display_name": ".venv",
   "language": "python",
   "name": "python3"
  },
  "language_info": {
   "codemirror_mode": {
    "name": "ipython",
    "version": 3
   },
   "file_extension": ".py",
   "mimetype": "text/x-python",
   "name": "python",
   "nbconvert_exporter": "python",
   "pygments_lexer": "ipython3",
   "version": "3.13.1"
  }
 },
 "nbformat": 4,
 "nbformat_minor": 5
}
